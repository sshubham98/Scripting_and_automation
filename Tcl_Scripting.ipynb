{
 "cells": [
  {
   "cell_type": "markdown",
   "id": "7316eb72",
   "metadata": {},
   "source": [
    "Importing Libraries needed to run script"
   ]
  },
  {
   "cell_type": "code",
   "execution_count": 65,
   "id": "fc89e174-4bd3-4334-9423-b2e9011005e5",
   "metadata": {},
   "outputs": [],
   "source": [
    "import os\n",
    "import numpy as np\n",
    "import pandas as pd1\n",
    "import shutil\n",
    "import csv"
   ]
  },
  {
   "cell_type": "code",
   "execution_count": 66,
   "id": "cdcfb600",
   "metadata": {},
   "outputs": [
    {
     "name": "stdout",
     "output_type": "stream",
     "text": [
      "['top_alu8bit.v', 'top_knowels_32bit.v', 'top_koggestone_32bit.v', 'top_lander_fisher_32bit.v', 'top_master_slave.v', 'top_mealy.v', 'top_moore.v', 'top_ripple4bit.v']\n"
     ]
    }
   ],
   "source": [
    "models = os.listdir(\"Modules\") #modules list as array \n",
    "print(models)"
   ]
  },
  {
   "cell_type": "code",
   "execution_count": 67,
   "id": "fea69130",
   "metadata": {},
   "outputs": [
    {
     "name": "stdout",
     "output_type": "stream",
     "text": [
      "top_alu8bit.v\n",
      "top_knowels_32bit.v\n",
      "top_koggestone_32bit.v\n",
      "top_lander_fisher_32bit.v\n",
      "top_master_slave.v\n",
      "top_mealy.v\n",
      "top_moore.v\n",
      "top_ripple4bit.v\n",
      "['top_alu8bit', 'top_knowels_32bit', 'top_koggestone_32bit', 'top_lander_fisher_32bit', 'top_master_slave', 'top_mealy', 'top_moore', 'top_ripple4bit']\n"
     ]
    }
   ],
   "source": [
    "top_modules = []\n",
    "for mod in models:\n",
    "    if (mod[:3]=='top'):\n",
    "        top_modules.append(mod[:-2])\n",
    "    print(mod)\n",
    "print(top_modules)\n"
   ]
  },
  {
   "cell_type": "code",
   "execution_count": 52,
   "id": "70a5fb33",
   "metadata": {},
   "outputs": [
    {
     "name": "stdout",
     "output_type": "stream",
     "text": [
      "top_master_slave.v\n"
     ]
    }
   ],
   "source": []
  },
  {
   "cell_type": "code",
   "execution_count": 68,
   "id": "b17337b3",
   "metadata": {},
   "outputs": [
    {
     "data": {
      "text/plain": [
       "0"
      ]
     },
     "execution_count": 68,
     "metadata": {},
     "output_type": "execute_result"
    }
   ],
   "source": [
    "os.system(\"vivado -mode batch -source tcl_create.tcl\")   #creating new project"
   ]
  },
  {
   "cell_type": "code",
   "execution_count": 69,
   "metadata": {},
   "outputs": [],
   "source": [
    "for mod in models:\n",
    "    os.system(\"vivado -mode batch -source  tcl_add.tcl -tclargs {}\".format(mod))"
   ]
  },
  {
   "cell_type": "code",
   "execution_count": 70,
   "id": "f8165181",
   "metadata": {},
   "outputs": [],
   "source": [
    "os.mkdir(\"results\")"
   ]
  },
  {
   "cell_type": "code",
   "execution_count": 71,
   "id": "eb55704e",
   "metadata": {},
   "outputs": [
    {
     "name": "stdout",
     "output_type": "stream",
     "text": [
      "top_alu8bit.v reported\n",
      "top_knowels_32bit.v reported\n",
      "top_koggestone_32bit.v reported\n",
      "top_lander_fisher_32bit.v reported\n",
      "top_master_slave.v reported\n",
      "top_mealy.v reported\n",
      "top_moore.v reported\n",
      "top_ripple4bit.v reported\n"
     ]
    }
   ],
   "source": [
    "for filename in models:\n",
    "    os.mkdir(\"results/\"+filename[:-2])\n",
    "    os.system(\"vivado -mode batch -source  tcl_run.tcl -tclargs {}\".format(filename))\n",
    "    print(\"{} reported\".format(filename)) "
   ]
  },
  {
   "cell_type": "markdown",
   "id": "0c9fcf5e",
   "metadata": {},
   "source": [
    "Generating Result.csv file \n",
    "The approach is to search for certain text in the generated reports and extract out the numerical values needed."
   ]
  },
  {
   "cell_type": "code",
   "execution_count": 72,
   "id": "2c2af0cf",
   "metadata": {},
   "outputs": [
    {
     "name": "stdout",
     "output_type": "stream",
     "text": [
      "['top_alu8bit', 'top_knowels_32bit', 'top_koggestone_32bit', 'top_lander_fisher_32bit', 'top_master_slave', 'top_mealy', 'top_moore', 'top_ripple4bit']\n"
     ]
    }
   ],
   "source": [
    "data_files = os.listdir(\"results\")  \n",
    "print(data_files)"
   ]
  },
  {
   "cell_type": "code",
   "execution_count": 87,
   "id": "2c74c6c1",
   "metadata": {},
   "outputs": [],
   "source": [
    "file_types = ['power.txt','timing.txt','utilization.txt']\n",
    "\n",
    "req_data = ['Total On-Chip Power','Data Path Delay','Slice LUTs']\n",
    "\n",
    "Power = []\n",
    "Delay = []\n",
    "LUTs = []"
   ]
  },
  {
   "cell_type": "code",
   "execution_count": 88,
   "id": "d9cb54c8",
   "metadata": {},
   "outputs": [
    {
     "name": "stdout",
     "output_type": "stream",
     "text": [
      "11.055\n",
      "13.83\n",
      "131.0\n",
      "_____\n",
      "25.791\n",
      "18.331\n",
      "133.0\n",
      "_____\n",
      "25.741\n",
      "18.177\n",
      "131.0\n",
      "_____\n",
      "23.749\n",
      "17.48\n",
      "73.0\n",
      "_____\n",
      "0.639\n",
      "4.767\n",
      "1.0\n",
      "_____\n",
      "0.122\n",
      "0.0\n",
      "_____\n",
      "0.529\n",
      "4.813\n",
      "5.0\n",
      "_____\n",
      "0.122\n",
      "0.0\n",
      "_____\n"
     ]
    }
   ],
   "source": [
    "\n",
    "for data in data_files :\n",
    "    for file in file_types:\n",
    "        with open(\"results/{}/{}\".format(data,file),'r') as File:\n",
    "             content = File.read()\n",
    "\n",
    "        words = content.split('\\n')   \n",
    "\n",
    "        for req_word in words:\n",
    "            if file_types[0] in file:\n",
    "                if req_data[0] in req_word:\n",
    "                    pwr = float(req_word.split()[6])\n",
    "                    print(pwr)\n",
    "                    Power.append(pwr)\n",
    "  \n",
    "\n",
    "        for req_word in words:\n",
    "            if file_types[1] in file:\n",
    "                if req_data[1] in req_word:\n",
    "                    delay = float(req_word.split()[3][:-2])\n",
    "                    print(delay)\n",
    "                    Delay.append(delay)\n",
    "\n",
    "\n",
    "        for req_word in words:\n",
    "            if file_types[2] in file:\n",
    "                if req_data[2] in req_word:\n",
    "                    luts = float(req_word.split()[4])\n",
    "                    print(luts) \n",
    "                    LUTs.append(luts) \n",
    "                    print(\"_____\")          \n",
    "\n",
    "             \n",
    "\n",
    "\n"
   ]
  },
  {
   "cell_type": "code",
   "execution_count": 91,
   "id": "980b29cb",
   "metadata": {},
   "outputs": [
    {
     "name": "stdout",
     "output_type": "stream",
     "text": [
      "       top_alu8bit  top_knowels_32bit  top_koggestone_32bit  \\\n",
      "Power       11.055             25.791                25.741   \n",
      "Delay       13.830             18.331                18.177   \n",
      "LUTs       131.000            133.000               131.000   \n",
      "\n",
      "       top_lander_fisher_32bit  top_master_slave  top_mealy  top_moore  \\\n",
      "Power                   23.749             0.639      0.122      0.529   \n",
      "Delay                   17.480             4.767      4.813        NaN   \n",
      "LUTs                    73.000             1.000      0.000      5.000   \n",
      "\n",
      "       top_ripple4bit  \n",
      "Power           0.122  \n",
      "Delay             NaN  \n",
      "LUTs            0.000  \n"
     ]
    }
   ],
   "source": [
    "Final_results = [Power,Delay,LUTs]\n",
    "row_name = ['Power','Delay','LUTs']\n",
    "\n",
    "df = pd1.DataFrame(Final_results, index = row_name)\n",
    "df.columns = data_files\n",
    "\n",
    "df.to_csv('Final_results.csv', index = row_name)\n",
    "print(df)"
   ]
  }
 ],
 "metadata": {
  "kernelspec": {
   "display_name": "Python 3",
   "language": "python",
   "name": "python3"
  },
  "language_info": {
   "codemirror_mode": {
    "name": "ipython",
    "version": 3
   },
   "file_extension": ".py",
   "mimetype": "text/x-python",
   "name": "python",
   "nbconvert_exporter": "python",
   "pygments_lexer": "ipython3",
   "version": "3.6.8"
  }
 },
 "nbformat": 4,
 "nbformat_minor": 5
}
